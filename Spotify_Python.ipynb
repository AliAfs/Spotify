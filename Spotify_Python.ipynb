{
 "cells": [
  {
   "cell_type": "markdown",
   "id": "d3df761e",
   "metadata": {},
   "source": [
    "# Data Management Plan"
   ]
  },
  {
   "cell_type": "markdown",
   "id": "d52b7ab4",
   "metadata": {},
   "source": [
    "## Predicting genre and popularity of songs using  Spotify API"
   ]
  },
  {
   "cell_type": "markdown",
   "id": "4df9ec71",
   "metadata": {},
   "source": [
    "##  Ali Afsharian"
   ]
  },
  {
   "cell_type": "markdown",
   "id": "3e16d33a",
   "metadata": {},
   "source": [
    "This project analyses some datasets from Spotify and we want to use different attributes to predict the genre of the music and find the relations between these attributes to see if the song is going to be popular.\n",
    "<br><br>First we are going to creat a database in MySQL and a table to put our data into it.\n",
    "<br>The tracks_all table contains 18 columns for track features. Columns involve different information from artist's name, album's name, popularity and genre to audio features. "
   ]
  },
  {
   "cell_type": "markdown",
   "id": "46cc0e63",
   "metadata": {},
   "source": [
    "```mysql\n",
    "CREATE DATABASE spotify;\n",
    "\n",
    "USE spotify;\n",
    "\n",
    "CREATE TABLE tracks_all (\n",
    "\tartist VARCHAR (255),\n",
    "    album VARCHAR (255),\n",
    "    track_name VARCHAR (255),\n",
    "    track_id VARCHAR (255),\n",
    "    popularity INT,\n",
    "    genre VARCHAR (255),\n",
    "    danceability FLOAT,\n",
    "\tenergy FLOAT,\n",
    "    key_ INT,\n",
    "    loudness FLOAT,\n",
    "    mode_ INT,\n",
    "    speechiness FLOAT,\n",
    "    instrumentalness FLOAT,\n",
    "    liveness FLOAT,\n",
    "    valence FLOAT,\n",
    "    tempo FLOAT,\n",
    "    duration_ms INT,\n",
    "    time_signature INT\n",
    "    );\n",
    "    \n",
    "```"
   ]
  },
  {
   "cell_type": "markdown",
   "id": "794b0b53",
   "metadata": {},
   "source": [
    "Now, we are going to define a function in python to retrive track information from Spotify API and put them into MySQL table which is created before.\n",
    "<br> From our developer dashboard page, we retrieve Client ID and Client Secret which are required to make connection with Spotify API in Python. \n",
    "<br>***Note:*** Spotify allows to get maximum 100 results per query which is why a for loop is utilized."
   ]
  },
  {
   "cell_type": "code",
   "execution_count": 1,
   "id": "730760e8",
   "metadata": {},
   "outputs": [],
   "source": [
    "# Reading a text file contains credentials\n",
    "with open('credentials.txt') as file:\n",
    "    lines = [line.rstrip() for line in file]\n",
    "\n",
    "username = lines[0]\n",
    "password = lines[1]"
   ]
  },
  {
   "cell_type": "code",
   "execution_count": 1,
   "id": "d4e4e31a",
   "metadata": {},
   "outputs": [],
   "source": [
    "import spotipy\n",
    "from spotipy.oauth2 import SpotifyClientCredentials\n",
    "import pandas as pd\n",
    "import mysql.connector\n",
    "\n",
    "# Authorization to access Spotify API\n",
    "sp = spotipy.Spotify(auth_manager=SpotifyClientCredentials(client_id=username,\n",
    "                                                           client_secret=password))\n",
    "\n",
    "\n",
    "\n",
    "# Define a function to extract data from particular playlist by giving creator and playlist ID\n",
    "def call_playlist(creator, playlist_id,genre):\n",
    "    \n",
    "    # Make a connection with MySQL\n",
    "    cnx = mysql.connector.connect(user='root', password='0000',host='127.0.0.1', database='spotify')\n",
    "    \n",
    "    # Create a list which contains all variables' name\n",
    "    playlist_features_list = [\"artist\",\"album\",\"track_name\", \"track_id\",\"popularity\",\"genre\",\"acousticness\",\"danceability\",\n",
    "                              \"energy\",\"key\",\"loudness\",\"mode\", \"speechiness\",\"instrumentalness\",\n",
    "                              \"liveness\",\"valence\",\"tempo\", \"duration_ms\",\"time_signature\"]\n",
    "    \n",
    "    playlist_df = pd.DataFrame(columns = playlist_features_list)\n",
    "    \n",
    "    \n",
    "    for i in range(0,300,100):\n",
    "        # Search in given playlist to retrive tracks' data\n",
    "        playlist = sp.user_playlist_tracks(creator, playlist_id, limit = 100, offset = i)[\"items\"]\n",
    "        \n",
    "        for track in playlist:\n",
    "\n",
    "            playlist_features = {}\n",
    "            \n",
    "            # Get metadata\n",
    "            playlist_features[\"artist\"] = track[\"track\"][\"album\"][\"artists\"][0][\"name\"]\n",
    "            playlist_features[\"album\"] = track[\"track\"][\"album\"][\"name\"]\n",
    "            playlist_features[\"track_name\"] = track[\"track\"][\"name\"]\n",
    "            playlist_features[\"track_id\"] = track[\"track\"][\"id\"]\n",
    "            playlist_features[\"popularity\"] = track[\"track\"][\"popularity\"]\n",
    "            playlist_features[\"genre\"] = genre\n",
    "            \n",
    "                    \n",
    "            # Get audio features\n",
    "            audio_features = sp.audio_features(playlist_features[\"track_id\"])[0]\n",
    "            for feature in playlist_features_list[6:]:\n",
    "                playlist_features[feature] = audio_features[feature]\n",
    "            \n",
    "            # Move data into MySQL database\n",
    "            placeholders = ', '.join(['%s'] * len(playlist_features))                \n",
    "            mysql_insert_query = \"INSERT INTO tracks_all VALUES (%s)\" %placeholders\n",
    "            cursor = cnx.cursor()\n",
    "            cursor.execute(mysql_insert_query,list(playlist_features.values()))\n",
    "            cnx.commit()\n",
    "\n",
    "        \n",
    "            # Concat the dfs\n",
    "            track_df = pd.DataFrame(playlist_features, index = [0])\n",
    "            playlist_df = pd.concat([playlist_df, track_df], ignore_index = True)\n",
    "\n",
    "        #Step 3\n",
    "    cnx.close()\n",
    "    return playlist_df.head ()\n"
   ]
  },
  {
   "cell_type": "markdown",
   "id": "90e6ba06",
   "metadata": {},
   "source": [
    "Here we call the function to get data from different playlists.\n",
    "<br>Playlists names: Rock Classic -  Rap Hits (2010-2021) - Jazz Classic - 2000s Country"
   ]
  },
  {
   "cell_type": "code",
   "execution_count": 3,
   "id": "29947b63",
   "metadata": {},
   "outputs": [
    {
     "data": {
      "text/html": [
       "<div>\n",
       "<style scoped>\n",
       "    .dataframe tbody tr th:only-of-type {\n",
       "        vertical-align: middle;\n",
       "    }\n",
       "\n",
       "    .dataframe tbody tr th {\n",
       "        vertical-align: top;\n",
       "    }\n",
       "\n",
       "    .dataframe thead th {\n",
       "        text-align: right;\n",
       "    }\n",
       "</style>\n",
       "<table border=\"1\" class=\"dataframe\">\n",
       "  <thead>\n",
       "    <tr style=\"text-align: right;\">\n",
       "      <th></th>\n",
       "      <th>artist</th>\n",
       "      <th>album</th>\n",
       "      <th>track_name</th>\n",
       "      <th>track_id</th>\n",
       "      <th>popularity</th>\n",
       "      <th>genre</th>\n",
       "      <th>acousticness</th>\n",
       "      <th>danceability</th>\n",
       "      <th>energy</th>\n",
       "      <th>key</th>\n",
       "      <th>loudness</th>\n",
       "      <th>mode</th>\n",
       "      <th>speechiness</th>\n",
       "      <th>instrumentalness</th>\n",
       "      <th>liveness</th>\n",
       "      <th>valence</th>\n",
       "      <th>tempo</th>\n",
       "      <th>duration_ms</th>\n",
       "      <th>time_signature</th>\n",
       "    </tr>\n",
       "  </thead>\n",
       "  <tbody>\n",
       "    <tr>\n",
       "      <th>0</th>\n",
       "      <td>Chief Keef</td>\n",
       "      <td>Finally Rich</td>\n",
       "      <td>Love Sosa</td>\n",
       "      <td>01Lr5YepbgjXAWR9iOEyH1</td>\n",
       "      <td>72</td>\n",
       "      <td>rap</td>\n",
       "      <td>0.03610</td>\n",
       "      <td>0.772</td>\n",
       "      <td>0.413</td>\n",
       "      <td>0</td>\n",
       "      <td>-8.193</td>\n",
       "      <td>0</td>\n",
       "      <td>0.0890</td>\n",
       "      <td>0</td>\n",
       "      <td>0.111</td>\n",
       "      <td>0.211</td>\n",
       "      <td>131.965</td>\n",
       "      <td>246213</td>\n",
       "      <td>4</td>\n",
       "    </tr>\n",
       "    <tr>\n",
       "      <th>1</th>\n",
       "      <td>Travis Scott</td>\n",
       "      <td>Birds In The Trap Sing McKnight</td>\n",
       "      <td>goosebumps</td>\n",
       "      <td>6gBFPUFcJLzWGx4lenP6h2</td>\n",
       "      <td>87</td>\n",
       "      <td>rap</td>\n",
       "      <td>0.08470</td>\n",
       "      <td>0.841</td>\n",
       "      <td>0.728</td>\n",
       "      <td>7</td>\n",
       "      <td>-3.370</td>\n",
       "      <td>1</td>\n",
       "      <td>0.0484</td>\n",
       "      <td>0</td>\n",
       "      <td>0.149</td>\n",
       "      <td>0.430</td>\n",
       "      <td>130.049</td>\n",
       "      <td>243837</td>\n",
       "      <td>4</td>\n",
       "    </tr>\n",
       "    <tr>\n",
       "      <th>2</th>\n",
       "      <td>Lil Uzi Vert</td>\n",
       "      <td>Luv Is Rage 2</td>\n",
       "      <td>XO Tour Llif3</td>\n",
       "      <td>7GX5flRQZVHRAGd6B4TmDO</td>\n",
       "      <td>85</td>\n",
       "      <td>rap</td>\n",
       "      <td>0.00264</td>\n",
       "      <td>0.732</td>\n",
       "      <td>0.750</td>\n",
       "      <td>11</td>\n",
       "      <td>-6.366</td>\n",
       "      <td>0</td>\n",
       "      <td>0.2310</td>\n",
       "      <td>0</td>\n",
       "      <td>0.109</td>\n",
       "      <td>0.401</td>\n",
       "      <td>155.096</td>\n",
       "      <td>182707</td>\n",
       "      <td>4</td>\n",
       "    </tr>\n",
       "    <tr>\n",
       "      <th>3</th>\n",
       "      <td>Playboi Carti</td>\n",
       "      <td>Playboi Carti</td>\n",
       "      <td>Magnolia</td>\n",
       "      <td>1e1JKLEDKP7hEQzJfNAgPl</td>\n",
       "      <td>81</td>\n",
       "      <td>rap</td>\n",
       "      <td>0.01140</td>\n",
       "      <td>0.791</td>\n",
       "      <td>0.582</td>\n",
       "      <td>11</td>\n",
       "      <td>-7.323</td>\n",
       "      <td>0</td>\n",
       "      <td>0.2860</td>\n",
       "      <td>0</td>\n",
       "      <td>0.350</td>\n",
       "      <td>0.443</td>\n",
       "      <td>162.991</td>\n",
       "      <td>181812</td>\n",
       "      <td>4</td>\n",
       "    </tr>\n",
       "    <tr>\n",
       "      <th>4</th>\n",
       "      <td>XXXTENTACION</td>\n",
       "      <td>?</td>\n",
       "      <td>Hope</td>\n",
       "      <td>2ZRo7axmMPeSVUvDbGkJah</td>\n",
       "      <td>87</td>\n",
       "      <td>rap</td>\n",
       "      <td>0.66100</td>\n",
       "      <td>0.592</td>\n",
       "      <td>0.457</td>\n",
       "      <td>9</td>\n",
       "      <td>-6.081</td>\n",
       "      <td>0</td>\n",
       "      <td>0.0603</td>\n",
       "      <td>0.000331</td>\n",
       "      <td>0.146</td>\n",
       "      <td>0.225</td>\n",
       "      <td>146.040</td>\n",
       "      <td>110886</td>\n",
       "      <td>4</td>\n",
       "    </tr>\n",
       "  </tbody>\n",
       "</table>\n",
       "</div>"
      ],
      "text/plain": [
       "          artist                            album     track_name  \\\n",
       "0     Chief Keef                     Finally Rich      Love Sosa   \n",
       "1   Travis Scott  Birds In The Trap Sing McKnight     goosebumps   \n",
       "2   Lil Uzi Vert                    Luv Is Rage 2  XO Tour Llif3   \n",
       "3  Playboi Carti                    Playboi Carti       Magnolia   \n",
       "4   XXXTENTACION                                ?           Hope   \n",
       "\n",
       "                 track_id popularity genre  acousticness  danceability  \\\n",
       "0  01Lr5YepbgjXAWR9iOEyH1         72   rap       0.03610         0.772   \n",
       "1  6gBFPUFcJLzWGx4lenP6h2         87   rap       0.08470         0.841   \n",
       "2  7GX5flRQZVHRAGd6B4TmDO         85   rap       0.00264         0.732   \n",
       "3  1e1JKLEDKP7hEQzJfNAgPl         81   rap       0.01140         0.791   \n",
       "4  2ZRo7axmMPeSVUvDbGkJah         87   rap       0.66100         0.592   \n",
       "\n",
       "   energy key  loudness mode  speechiness instrumentalness  liveness  valence  \\\n",
       "0   0.413   0    -8.193    0       0.0890                0     0.111    0.211   \n",
       "1   0.728   7    -3.370    1       0.0484                0     0.149    0.430   \n",
       "2   0.750  11    -6.366    0       0.2310                0     0.109    0.401   \n",
       "3   0.582  11    -7.323    0       0.2860                0     0.350    0.443   \n",
       "4   0.457   9    -6.081    0       0.0603         0.000331     0.146    0.225   \n",
       "\n",
       "     tempo duration_ms time_signature  \n",
       "0  131.965      246213              4  \n",
       "1  130.049      243837              4  \n",
       "2  155.096      182707              4  \n",
       "3  162.991      181812              4  \n",
       "4  146.040      110886              4  "
      ]
     },
     "execution_count": 3,
     "metadata": {},
     "output_type": "execute_result"
    }
   ],
   "source": [
    "call_playlist(\"spotify:user:1145955352\",\"spotify:playlist:4riovLwMCrY3q0Cd4e0Sqp\",\"rap\")"
   ]
  },
  {
   "cell_type": "code",
   "execution_count": 4,
   "id": "45eca1c7",
   "metadata": {},
   "outputs": [
    {
     "data": {
      "text/html": [
       "<div>\n",
       "<style scoped>\n",
       "    .dataframe tbody tr th:only-of-type {\n",
       "        vertical-align: middle;\n",
       "    }\n",
       "\n",
       "    .dataframe tbody tr th {\n",
       "        vertical-align: top;\n",
       "    }\n",
       "\n",
       "    .dataframe thead th {\n",
       "        text-align: right;\n",
       "    }\n",
       "</style>\n",
       "<table border=\"1\" class=\"dataframe\">\n",
       "  <thead>\n",
       "    <tr style=\"text-align: right;\">\n",
       "      <th></th>\n",
       "      <th>artist</th>\n",
       "      <th>album</th>\n",
       "      <th>track_name</th>\n",
       "      <th>track_id</th>\n",
       "      <th>popularity</th>\n",
       "      <th>genre</th>\n",
       "      <th>acousticness</th>\n",
       "      <th>danceability</th>\n",
       "      <th>energy</th>\n",
       "      <th>key</th>\n",
       "      <th>loudness</th>\n",
       "      <th>mode</th>\n",
       "      <th>speechiness</th>\n",
       "      <th>instrumentalness</th>\n",
       "      <th>liveness</th>\n",
       "      <th>valence</th>\n",
       "      <th>tempo</th>\n",
       "      <th>duration_ms</th>\n",
       "      <th>time_signature</th>\n",
       "    </tr>\n",
       "  </thead>\n",
       "  <tbody>\n",
       "    <tr>\n",
       "      <th>0</th>\n",
       "      <td>Billie Holiday</td>\n",
       "      <td>Solitude</td>\n",
       "      <td>Blue Moon</td>\n",
       "      <td>1pZn8AX1WulW8IO338hE5D</td>\n",
       "      <td>66</td>\n",
       "      <td>jazz</td>\n",
       "      <td>0.982</td>\n",
       "      <td>0.639</td>\n",
       "      <td>0.2690</td>\n",
       "      <td>8</td>\n",
       "      <td>-11.435</td>\n",
       "      <td>1</td>\n",
       "      <td>0.0698</td>\n",
       "      <td>0.120000</td>\n",
       "      <td>0.141</td>\n",
       "      <td>0.539</td>\n",
       "      <td>124.866</td>\n",
       "      <td>207827</td>\n",
       "      <td>4</td>\n",
       "    </tr>\n",
       "    <tr>\n",
       "      <th>1</th>\n",
       "      <td>Chet Baker</td>\n",
       "      <td>Chet Baker Sings: It Could Happen To You [Orig...</td>\n",
       "      <td>Everything Happens to Me</td>\n",
       "      <td>4Y5fyQ5fBysC32Na5sZT3J</td>\n",
       "      <td>56</td>\n",
       "      <td>jazz</td>\n",
       "      <td>0.809</td>\n",
       "      <td>0.511</td>\n",
       "      <td>0.1930</td>\n",
       "      <td>7</td>\n",
       "      <td>-15.148</td>\n",
       "      <td>1</td>\n",
       "      <td>0.0439</td>\n",
       "      <td>0.000022</td>\n",
       "      <td>0.129</td>\n",
       "      <td>0.164</td>\n",
       "      <td>116.348</td>\n",
       "      <td>305187</td>\n",
       "      <td>4</td>\n",
       "    </tr>\n",
       "    <tr>\n",
       "      <th>2</th>\n",
       "      <td>Bill Evans Trio</td>\n",
       "      <td>Waltz For Debby [Original Jazz Classics Remast...</td>\n",
       "      <td>My Foolish Heart</td>\n",
       "      <td>6yKkA8HzwWTZ5taIMaG4Nm</td>\n",
       "      <td>64</td>\n",
       "      <td>jazz</td>\n",
       "      <td>0.935</td>\n",
       "      <td>0.395</td>\n",
       "      <td>0.1210</td>\n",
       "      <td>9</td>\n",
       "      <td>-23.427</td>\n",
       "      <td>1</td>\n",
       "      <td>0.0327</td>\n",
       "      <td>0.397000</td>\n",
       "      <td>0.697</td>\n",
       "      <td>0.139</td>\n",
       "      <td>114.521</td>\n",
       "      <td>297320</td>\n",
       "      <td>4</td>\n",
       "    </tr>\n",
       "    <tr>\n",
       "      <th>3</th>\n",
       "      <td>John Coltrane</td>\n",
       "      <td>The Gentle Side Of John Coltrane</td>\n",
       "      <td>My One And Only Love</td>\n",
       "      <td>1BPmVDqR4cX9aFC0Qx0eWn</td>\n",
       "      <td>57</td>\n",
       "      <td>jazz</td>\n",
       "      <td>0.988</td>\n",
       "      <td>0.461</td>\n",
       "      <td>0.0546</td>\n",
       "      <td>0</td>\n",
       "      <td>-18.982</td>\n",
       "      <td>1</td>\n",
       "      <td>0.0362</td>\n",
       "      <td>0.208000</td>\n",
       "      <td>0.126</td>\n",
       "      <td>0.230</td>\n",
       "      <td>128.910</td>\n",
       "      <td>296667</td>\n",
       "      <td>4</td>\n",
       "    </tr>\n",
       "    <tr>\n",
       "      <th>4</th>\n",
       "      <td>Chick Corea</td>\n",
       "      <td>The Best Of Chick Corea</td>\n",
       "      <td>Windows</td>\n",
       "      <td>0m8tSPLHhjhGToD6LW0RPp</td>\n",
       "      <td>53</td>\n",
       "      <td>jazz</td>\n",
       "      <td>0.673</td>\n",
       "      <td>0.503</td>\n",
       "      <td>0.3440</td>\n",
       "      <td>1</td>\n",
       "      <td>-19.024</td>\n",
       "      <td>1</td>\n",
       "      <td>0.0369</td>\n",
       "      <td>0.381000</td>\n",
       "      <td>0.096</td>\n",
       "      <td>0.468</td>\n",
       "      <td>108.489</td>\n",
       "      <td>191933</td>\n",
       "      <td>4</td>\n",
       "    </tr>\n",
       "  </tbody>\n",
       "</table>\n",
       "</div>"
      ],
      "text/plain": [
       "            artist                                              album  \\\n",
       "0   Billie Holiday                                           Solitude   \n",
       "1       Chet Baker  Chet Baker Sings: It Could Happen To You [Orig...   \n",
       "2  Bill Evans Trio  Waltz For Debby [Original Jazz Classics Remast...   \n",
       "3    John Coltrane                   The Gentle Side Of John Coltrane   \n",
       "4      Chick Corea                            The Best Of Chick Corea   \n",
       "\n",
       "                 track_name                track_id popularity genre  \\\n",
       "0                 Blue Moon  1pZn8AX1WulW8IO338hE5D         66  jazz   \n",
       "1  Everything Happens to Me  4Y5fyQ5fBysC32Na5sZT3J         56  jazz   \n",
       "2          My Foolish Heart  6yKkA8HzwWTZ5taIMaG4Nm         64  jazz   \n",
       "3      My One And Only Love  1BPmVDqR4cX9aFC0Qx0eWn         57  jazz   \n",
       "4                   Windows  0m8tSPLHhjhGToD6LW0RPp         53  jazz   \n",
       "\n",
       "   acousticness  danceability  energy key  loudness mode  speechiness  \\\n",
       "0         0.982         0.639  0.2690   8   -11.435    1       0.0698   \n",
       "1         0.809         0.511  0.1930   7   -15.148    1       0.0439   \n",
       "2         0.935         0.395  0.1210   9   -23.427    1       0.0327   \n",
       "3         0.988         0.461  0.0546   0   -18.982    1       0.0362   \n",
       "4         0.673         0.503  0.3440   1   -19.024    1       0.0369   \n",
       "\n",
       "   instrumentalness  liveness  valence    tempo duration_ms time_signature  \n",
       "0          0.120000     0.141    0.539  124.866      207827              4  \n",
       "1          0.000022     0.129    0.164  116.348      305187              4  \n",
       "2          0.397000     0.697    0.139  114.521      297320              4  \n",
       "3          0.208000     0.126    0.230  128.910      296667              4  \n",
       "4          0.381000     0.096    0.468  108.489      191933              4  "
      ]
     },
     "execution_count": 4,
     "metadata": {},
     "output_type": "execute_result"
    }
   ],
   "source": [
    "call_playlist(\"spotify:user:1145955352\",\"spotify:playlist:37i9dQZF1DXbITWG1ZJKYt\",\"jazz\")"
   ]
  },
  {
   "cell_type": "code",
   "execution_count": 5,
   "id": "ee80884b",
   "metadata": {},
   "outputs": [
    {
     "data": {
      "text/html": [
       "<div>\n",
       "<style scoped>\n",
       "    .dataframe tbody tr th:only-of-type {\n",
       "        vertical-align: middle;\n",
       "    }\n",
       "\n",
       "    .dataframe tbody tr th {\n",
       "        vertical-align: top;\n",
       "    }\n",
       "\n",
       "    .dataframe thead th {\n",
       "        text-align: right;\n",
       "    }\n",
       "</style>\n",
       "<table border=\"1\" class=\"dataframe\">\n",
       "  <thead>\n",
       "    <tr style=\"text-align: right;\">\n",
       "      <th></th>\n",
       "      <th>artist</th>\n",
       "      <th>album</th>\n",
       "      <th>track_name</th>\n",
       "      <th>track_id</th>\n",
       "      <th>popularity</th>\n",
       "      <th>genre</th>\n",
       "      <th>acousticness</th>\n",
       "      <th>danceability</th>\n",
       "      <th>energy</th>\n",
       "      <th>key</th>\n",
       "      <th>loudness</th>\n",
       "      <th>mode</th>\n",
       "      <th>speechiness</th>\n",
       "      <th>instrumentalness</th>\n",
       "      <th>liveness</th>\n",
       "      <th>valence</th>\n",
       "      <th>tempo</th>\n",
       "      <th>duration_ms</th>\n",
       "      <th>time_signature</th>\n",
       "    </tr>\n",
       "  </thead>\n",
       "  <tbody>\n",
       "    <tr>\n",
       "      <th>0</th>\n",
       "      <td>Brooks &amp; Dunn</td>\n",
       "      <td>Red Dirt Road</td>\n",
       "      <td>Red Dirt Road</td>\n",
       "      <td>3EZzghqykkfOB0Z8d0kTSt</td>\n",
       "      <td>68</td>\n",
       "      <td>country</td>\n",
       "      <td>0.0664</td>\n",
       "      <td>0.555</td>\n",
       "      <td>0.868</td>\n",
       "      <td>5</td>\n",
       "      <td>-3.798</td>\n",
       "      <td>1</td>\n",
       "      <td>0.0403</td>\n",
       "      <td>0.000117</td>\n",
       "      <td>0.116</td>\n",
       "      <td>0.479</td>\n",
       "      <td>136.120</td>\n",
       "      <td>260360</td>\n",
       "      <td>4</td>\n",
       "    </tr>\n",
       "    <tr>\n",
       "      <th>1</th>\n",
       "      <td>Travis Tritt</td>\n",
       "      <td>Down The Road I Go</td>\n",
       "      <td>It's A Great Day To Be Alive</td>\n",
       "      <td>3oW6SWwGqiZSPTiAp7ZQoH</td>\n",
       "      <td>72</td>\n",
       "      <td>country</td>\n",
       "      <td>0.2460</td>\n",
       "      <td>0.595</td>\n",
       "      <td>0.653</td>\n",
       "      <td>7</td>\n",
       "      <td>-4.935</td>\n",
       "      <td>1</td>\n",
       "      <td>0.0265</td>\n",
       "      <td>0.000000</td>\n",
       "      <td>0.264</td>\n",
       "      <td>0.542</td>\n",
       "      <td>128.930</td>\n",
       "      <td>241533</td>\n",
       "      <td>4</td>\n",
       "    </tr>\n",
       "    <tr>\n",
       "      <th>2</th>\n",
       "      <td>Carrie Underwood</td>\n",
       "      <td>Some Hearts</td>\n",
       "      <td>Before He Cheats</td>\n",
       "      <td>0ZUo4YjG4saFnEJhdWp9Bt</td>\n",
       "      <td>77</td>\n",
       "      <td>country</td>\n",
       "      <td>0.2710</td>\n",
       "      <td>0.519</td>\n",
       "      <td>0.749</td>\n",
       "      <td>6</td>\n",
       "      <td>-3.318</td>\n",
       "      <td>0</td>\n",
       "      <td>0.0405</td>\n",
       "      <td>0.000000</td>\n",
       "      <td>0.119</td>\n",
       "      <td>0.290</td>\n",
       "      <td>147.905</td>\n",
       "      <td>199947</td>\n",
       "      <td>4</td>\n",
       "    </tr>\n",
       "    <tr>\n",
       "      <th>3</th>\n",
       "      <td>Sara Evans</td>\n",
       "      <td>Restless</td>\n",
       "      <td>Suds in the Bucket</td>\n",
       "      <td>6NhpIdjYoufuNNlBsgOztc</td>\n",
       "      <td>68</td>\n",
       "      <td>country</td>\n",
       "      <td>0.0520</td>\n",
       "      <td>0.511</td>\n",
       "      <td>0.903</td>\n",
       "      <td>10</td>\n",
       "      <td>-3.163</td>\n",
       "      <td>1</td>\n",
       "      <td>0.0397</td>\n",
       "      <td>0.000529</td>\n",
       "      <td>0.304</td>\n",
       "      <td>0.898</td>\n",
       "      <td>161.992</td>\n",
       "      <td>227267</td>\n",
       "      <td>4</td>\n",
       "    </tr>\n",
       "    <tr>\n",
       "      <th>4</th>\n",
       "      <td>Keith Urban</td>\n",
       "      <td>Golden Road</td>\n",
       "      <td>Somebody Like You</td>\n",
       "      <td>0b9djfiuDIMw1zKH6gV74g</td>\n",
       "      <td>68</td>\n",
       "      <td>country</td>\n",
       "      <td>0.1080</td>\n",
       "      <td>0.624</td>\n",
       "      <td>0.840</td>\n",
       "      <td>4</td>\n",
       "      <td>-5.768</td>\n",
       "      <td>1</td>\n",
       "      <td>0.0337</td>\n",
       "      <td>0.000546</td>\n",
       "      <td>0.144</td>\n",
       "      <td>0.656</td>\n",
       "      <td>111.020</td>\n",
       "      <td>323040</td>\n",
       "      <td>4</td>\n",
       "    </tr>\n",
       "  </tbody>\n",
       "</table>\n",
       "</div>"
      ],
      "text/plain": [
       "             artist               album                    track_name  \\\n",
       "0     Brooks & Dunn       Red Dirt Road                 Red Dirt Road   \n",
       "1      Travis Tritt  Down The Road I Go  It's A Great Day To Be Alive   \n",
       "2  Carrie Underwood         Some Hearts              Before He Cheats   \n",
       "3        Sara Evans            Restless            Suds in the Bucket   \n",
       "4       Keith Urban         Golden Road             Somebody Like You   \n",
       "\n",
       "                 track_id popularity    genre  acousticness  danceability  \\\n",
       "0  3EZzghqykkfOB0Z8d0kTSt         68  country        0.0664         0.555   \n",
       "1  3oW6SWwGqiZSPTiAp7ZQoH         72  country        0.2460         0.595   \n",
       "2  0ZUo4YjG4saFnEJhdWp9Bt         77  country        0.2710         0.519   \n",
       "3  6NhpIdjYoufuNNlBsgOztc         68  country        0.0520         0.511   \n",
       "4  0b9djfiuDIMw1zKH6gV74g         68  country        0.1080         0.624   \n",
       "\n",
       "   energy key  loudness mode  speechiness  instrumentalness  liveness  \\\n",
       "0   0.868   5    -3.798    1       0.0403          0.000117     0.116   \n",
       "1   0.653   7    -4.935    1       0.0265          0.000000     0.264   \n",
       "2   0.749   6    -3.318    0       0.0405          0.000000     0.119   \n",
       "3   0.903  10    -3.163    1       0.0397          0.000529     0.304   \n",
       "4   0.840   4    -5.768    1       0.0337          0.000546     0.144   \n",
       "\n",
       "   valence    tempo duration_ms time_signature  \n",
       "0    0.479  136.120      260360              4  \n",
       "1    0.542  128.930      241533              4  \n",
       "2    0.290  147.905      199947              4  \n",
       "3    0.898  161.992      227267              4  \n",
       "4    0.656  111.020      323040              4  "
      ]
     },
     "execution_count": 5,
     "metadata": {},
     "output_type": "execute_result"
    }
   ],
   "source": [
    "call_playlist(\"spotify:user:1145955352\",\"spotify:playlist:37i9dQZF1DXdxUH6sNtcDe\",\"country\")"
   ]
  },
  {
   "cell_type": "markdown",
   "id": "91837672",
   "metadata": {},
   "source": [
    "In the following, we get the data from MySQL database and make dataframe to collect data with Pandas."
   ]
  },
  {
   "cell_type": "code",
   "execution_count": 6,
   "id": "da311cff",
   "metadata": {},
   "outputs": [
    {
     "data": {
      "text/html": [
       "<div>\n",
       "<style scoped>\n",
       "    .dataframe tbody tr th:only-of-type {\n",
       "        vertical-align: middle;\n",
       "    }\n",
       "\n",
       "    .dataframe tbody tr th {\n",
       "        vertical-align: top;\n",
       "    }\n",
       "\n",
       "    .dataframe thead th {\n",
       "        text-align: right;\n",
       "    }\n",
       "</style>\n",
       "<table border=\"1\" class=\"dataframe\">\n",
       "  <thead>\n",
       "    <tr style=\"text-align: right;\">\n",
       "      <th></th>\n",
       "      <th>0</th>\n",
       "      <th>1</th>\n",
       "      <th>2</th>\n",
       "      <th>3</th>\n",
       "      <th>4</th>\n",
       "      <th>5</th>\n",
       "      <th>6</th>\n",
       "      <th>7</th>\n",
       "      <th>8</th>\n",
       "      <th>9</th>\n",
       "      <th>10</th>\n",
       "      <th>11</th>\n",
       "      <th>12</th>\n",
       "      <th>13</th>\n",
       "      <th>14</th>\n",
       "      <th>15</th>\n",
       "      <th>16</th>\n",
       "      <th>17</th>\n",
       "      <th>18</th>\n",
       "    </tr>\n",
       "  </thead>\n",
       "  <tbody>\n",
       "    <tr>\n",
       "      <th>0</th>\n",
       "      <td>AC/DC</td>\n",
       "      <td>Highway to Hell</td>\n",
       "      <td>Highway to Hell</td>\n",
       "      <td>2zYzyRzz6pRmhPzyfMEC8s</td>\n",
       "      <td>85</td>\n",
       "      <td>rock</td>\n",
       "      <td>0.0610</td>\n",
       "      <td>0.574</td>\n",
       "      <td>0.913</td>\n",
       "      <td>6</td>\n",
       "      <td>-4.793</td>\n",
       "      <td>0</td>\n",
       "      <td>0.1330</td>\n",
       "      <td>0.001580</td>\n",
       "      <td>0.156</td>\n",
       "      <td>0.423</td>\n",
       "      <td>115.728</td>\n",
       "      <td>208400</td>\n",
       "      <td>4</td>\n",
       "    </tr>\n",
       "    <tr>\n",
       "      <th>1</th>\n",
       "      <td>Guns N' Roses</td>\n",
       "      <td>Appetite For Destruction</td>\n",
       "      <td>Paradise City</td>\n",
       "      <td>3YBZIN3rekqsKxbJc9FZko</td>\n",
       "      <td>80</td>\n",
       "      <td>rock</td>\n",
       "      <td>0.0169</td>\n",
       "      <td>0.273</td>\n",
       "      <td>0.952</td>\n",
       "      <td>11</td>\n",
       "      <td>-8.762</td>\n",
       "      <td>1</td>\n",
       "      <td>0.0843</td>\n",
       "      <td>0.011100</td>\n",
       "      <td>0.142</td>\n",
       "      <td>0.472</td>\n",
       "      <td>100.271</td>\n",
       "      <td>405640</td>\n",
       "      <td>4</td>\n",
       "    </tr>\n",
       "    <tr>\n",
       "      <th>2</th>\n",
       "      <td>Queen</td>\n",
       "      <td>The Game (Deluxe Remastered Version)</td>\n",
       "      <td>Another One Bites The Dust - Remastered 2011</td>\n",
       "      <td>57JVGBtBLCfHw2muk5416J</td>\n",
       "      <td>75</td>\n",
       "      <td>rock</td>\n",
       "      <td>0.1120</td>\n",
       "      <td>0.933</td>\n",
       "      <td>0.528</td>\n",
       "      <td>5</td>\n",
       "      <td>-6.472</td>\n",
       "      <td>0</td>\n",
       "      <td>0.1620</td>\n",
       "      <td>0.329000</td>\n",
       "      <td>0.163</td>\n",
       "      <td>0.756</td>\n",
       "      <td>109.975</td>\n",
       "      <td>214653</td>\n",
       "      <td>4</td>\n",
       "    </tr>\n",
       "    <tr>\n",
       "      <th>3</th>\n",
       "      <td>Led Zeppelin</td>\n",
       "      <td>Led Zeppelin IV (Deluxe Edition)</td>\n",
       "      <td>Black Dog - Remaster</td>\n",
       "      <td>3qT4bUD1MaWpGrTwcvguhb</td>\n",
       "      <td>76</td>\n",
       "      <td>rock</td>\n",
       "      <td>0.3960</td>\n",
       "      <td>0.437</td>\n",
       "      <td>0.864</td>\n",
       "      <td>4</td>\n",
       "      <td>-7.842</td>\n",
       "      <td>0</td>\n",
       "      <td>0.0904</td>\n",
       "      <td>0.031400</td>\n",
       "      <td>0.242</td>\n",
       "      <td>0.749</td>\n",
       "      <td>81.394</td>\n",
       "      <td>295387</td>\n",
       "      <td>4</td>\n",
       "    </tr>\n",
       "    <tr>\n",
       "      <th>4</th>\n",
       "      <td>Aerosmith</td>\n",
       "      <td>Aerosmith</td>\n",
       "      <td>Dream On</td>\n",
       "      <td>5MxNLUsfh7uzROypsoO5qe</td>\n",
       "      <td>81</td>\n",
       "      <td>rock</td>\n",
       "      <td>0.3880</td>\n",
       "      <td>0.307</td>\n",
       "      <td>0.433</td>\n",
       "      <td>1</td>\n",
       "      <td>-10.057</td>\n",
       "      <td>1</td>\n",
       "      <td>0.0290</td>\n",
       "      <td>0.000091</td>\n",
       "      <td>0.332</td>\n",
       "      <td>0.224</td>\n",
       "      <td>160.900</td>\n",
       "      <td>266960</td>\n",
       "      <td>4</td>\n",
       "    </tr>\n",
       "  </tbody>\n",
       "</table>\n",
       "</div>"
      ],
      "text/plain": [
       "              0                                     1   \\\n",
       "0          AC/DC                       Highway to Hell   \n",
       "1  Guns N' Roses              Appetite For Destruction   \n",
       "2          Queen  The Game (Deluxe Remastered Version)   \n",
       "3   Led Zeppelin      Led Zeppelin IV (Deluxe Edition)   \n",
       "4      Aerosmith                             Aerosmith   \n",
       "\n",
       "                                             2                       3   4   \\\n",
       "0                               Highway to Hell  2zYzyRzz6pRmhPzyfMEC8s  85   \n",
       "1                                 Paradise City  3YBZIN3rekqsKxbJc9FZko  80   \n",
       "2  Another One Bites The Dust - Remastered 2011  57JVGBtBLCfHw2muk5416J  75   \n",
       "3                          Black Dog - Remaster  3qT4bUD1MaWpGrTwcvguhb  76   \n",
       "4                                      Dream On  5MxNLUsfh7uzROypsoO5qe  81   \n",
       "\n",
       "     5       6      7      8   9       10  11      12        13     14     15  \\\n",
       "0  rock  0.0610  0.574  0.913   6  -4.793   0  0.1330  0.001580  0.156  0.423   \n",
       "1  rock  0.0169  0.273  0.952  11  -8.762   1  0.0843  0.011100  0.142  0.472   \n",
       "2  rock  0.1120  0.933  0.528   5  -6.472   0  0.1620  0.329000  0.163  0.756   \n",
       "3  rock  0.3960  0.437  0.864   4  -7.842   0  0.0904  0.031400  0.242  0.749   \n",
       "4  rock  0.3880  0.307  0.433   1 -10.057   1  0.0290  0.000091  0.332  0.224   \n",
       "\n",
       "        16      17  18  \n",
       "0  115.728  208400   4  \n",
       "1  100.271  405640   4  \n",
       "2  109.975  214653   4  \n",
       "3   81.394  295387   4  \n",
       "4  160.900  266960   4  "
      ]
     },
     "execution_count": 6,
     "metadata": {},
     "output_type": "execute_result"
    }
   ],
   "source": [
    "cnx = mysql.connector.connect(user='root', password='0000',host='127.0.0.1', database='spotify')\n",
    "\n",
    "# Extract data from MySQL database and collect in a table\n",
    "cursor = cnx.cursor()\n",
    "cursor.execute('SELECT * FROM tracks_all')\n",
    "table_tracks = cursor.fetchall()\n",
    "\n",
    "# Create dataframe\n",
    "df_spotify = pd.DataFrame(table_tracks)\n",
    "cnx.close()\n",
    "\n",
    "df_spotify.head()"
   ]
  },
  {
   "cell_type": "markdown",
   "id": "d4b6a7b2",
   "metadata": {},
   "source": [
    "- We can see that the columns has not right names, and we correct the columns name in the following."
   ]
  },
  {
   "cell_type": "code",
   "execution_count": 9,
   "id": "d687bf53",
   "metadata": {},
   "outputs": [
    {
     "data": {
      "text/html": [
       "<div>\n",
       "<style scoped>\n",
       "    .dataframe tbody tr th:only-of-type {\n",
       "        vertical-align: middle;\n",
       "    }\n",
       "\n",
       "    .dataframe tbody tr th {\n",
       "        vertical-align: top;\n",
       "    }\n",
       "\n",
       "    .dataframe thead th {\n",
       "        text-align: right;\n",
       "    }\n",
       "</style>\n",
       "<table border=\"1\" class=\"dataframe\">\n",
       "  <thead>\n",
       "    <tr style=\"text-align: right;\">\n",
       "      <th></th>\n",
       "      <th>artist</th>\n",
       "      <th>album</th>\n",
       "      <th>track_name</th>\n",
       "      <th>track_id</th>\n",
       "      <th>popularity</th>\n",
       "      <th>genre</th>\n",
       "      <th>acousticness</th>\n",
       "      <th>danceability</th>\n",
       "      <th>energy</th>\n",
       "      <th>key</th>\n",
       "      <th>loudness</th>\n",
       "      <th>mode</th>\n",
       "      <th>speechiness</th>\n",
       "      <th>instrumentalness</th>\n",
       "      <th>liveness</th>\n",
       "      <th>valence</th>\n",
       "      <th>tempo</th>\n",
       "      <th>duration</th>\n",
       "      <th>time_signature</th>\n",
       "    </tr>\n",
       "  </thead>\n",
       "  <tbody>\n",
       "    <tr>\n",
       "      <th>0</th>\n",
       "      <td>AC/DC</td>\n",
       "      <td>Highway to Hell</td>\n",
       "      <td>Highway to Hell</td>\n",
       "      <td>2zYzyRzz6pRmhPzyfMEC8s</td>\n",
       "      <td>85</td>\n",
       "      <td>rock</td>\n",
       "      <td>0.0610</td>\n",
       "      <td>0.574</td>\n",
       "      <td>0.913</td>\n",
       "      <td>6</td>\n",
       "      <td>-4.793</td>\n",
       "      <td>0</td>\n",
       "      <td>0.1330</td>\n",
       "      <td>0.001580</td>\n",
       "      <td>0.156</td>\n",
       "      <td>0.423</td>\n",
       "      <td>115.728</td>\n",
       "      <td>208400</td>\n",
       "      <td>4</td>\n",
       "    </tr>\n",
       "    <tr>\n",
       "      <th>1</th>\n",
       "      <td>Guns N' Roses</td>\n",
       "      <td>Appetite For Destruction</td>\n",
       "      <td>Paradise City</td>\n",
       "      <td>3YBZIN3rekqsKxbJc9FZko</td>\n",
       "      <td>80</td>\n",
       "      <td>rock</td>\n",
       "      <td>0.0169</td>\n",
       "      <td>0.273</td>\n",
       "      <td>0.952</td>\n",
       "      <td>11</td>\n",
       "      <td>-8.762</td>\n",
       "      <td>1</td>\n",
       "      <td>0.0843</td>\n",
       "      <td>0.011100</td>\n",
       "      <td>0.142</td>\n",
       "      <td>0.472</td>\n",
       "      <td>100.271</td>\n",
       "      <td>405640</td>\n",
       "      <td>4</td>\n",
       "    </tr>\n",
       "    <tr>\n",
       "      <th>2</th>\n",
       "      <td>Queen</td>\n",
       "      <td>The Game (Deluxe Remastered Version)</td>\n",
       "      <td>Another One Bites The Dust - Remastered 2011</td>\n",
       "      <td>57JVGBtBLCfHw2muk5416J</td>\n",
       "      <td>75</td>\n",
       "      <td>rock</td>\n",
       "      <td>0.1120</td>\n",
       "      <td>0.933</td>\n",
       "      <td>0.528</td>\n",
       "      <td>5</td>\n",
       "      <td>-6.472</td>\n",
       "      <td>0</td>\n",
       "      <td>0.1620</td>\n",
       "      <td>0.329000</td>\n",
       "      <td>0.163</td>\n",
       "      <td>0.756</td>\n",
       "      <td>109.975</td>\n",
       "      <td>214653</td>\n",
       "      <td>4</td>\n",
       "    </tr>\n",
       "    <tr>\n",
       "      <th>3</th>\n",
       "      <td>Led Zeppelin</td>\n",
       "      <td>Led Zeppelin IV (Deluxe Edition)</td>\n",
       "      <td>Black Dog - Remaster</td>\n",
       "      <td>3qT4bUD1MaWpGrTwcvguhb</td>\n",
       "      <td>76</td>\n",
       "      <td>rock</td>\n",
       "      <td>0.3960</td>\n",
       "      <td>0.437</td>\n",
       "      <td>0.864</td>\n",
       "      <td>4</td>\n",
       "      <td>-7.842</td>\n",
       "      <td>0</td>\n",
       "      <td>0.0904</td>\n",
       "      <td>0.031400</td>\n",
       "      <td>0.242</td>\n",
       "      <td>0.749</td>\n",
       "      <td>81.394</td>\n",
       "      <td>295387</td>\n",
       "      <td>4</td>\n",
       "    </tr>\n",
       "    <tr>\n",
       "      <th>4</th>\n",
       "      <td>Aerosmith</td>\n",
       "      <td>Aerosmith</td>\n",
       "      <td>Dream On</td>\n",
       "      <td>5MxNLUsfh7uzROypsoO5qe</td>\n",
       "      <td>81</td>\n",
       "      <td>rock</td>\n",
       "      <td>0.3880</td>\n",
       "      <td>0.307</td>\n",
       "      <td>0.433</td>\n",
       "      <td>1</td>\n",
       "      <td>-10.057</td>\n",
       "      <td>1</td>\n",
       "      <td>0.0290</td>\n",
       "      <td>0.000091</td>\n",
       "      <td>0.332</td>\n",
       "      <td>0.224</td>\n",
       "      <td>160.900</td>\n",
       "      <td>266960</td>\n",
       "      <td>4</td>\n",
       "    </tr>\n",
       "  </tbody>\n",
       "</table>\n",
       "</div>"
      ],
      "text/plain": [
       "          artist                                 album  \\\n",
       "0          AC/DC                       Highway to Hell   \n",
       "1  Guns N' Roses              Appetite For Destruction   \n",
       "2          Queen  The Game (Deluxe Remastered Version)   \n",
       "3   Led Zeppelin      Led Zeppelin IV (Deluxe Edition)   \n",
       "4      Aerosmith                             Aerosmith   \n",
       "\n",
       "                                     track_name                track_id  \\\n",
       "0                               Highway to Hell  2zYzyRzz6pRmhPzyfMEC8s   \n",
       "1                                 Paradise City  3YBZIN3rekqsKxbJc9FZko   \n",
       "2  Another One Bites The Dust - Remastered 2011  57JVGBtBLCfHw2muk5416J   \n",
       "3                          Black Dog - Remaster  3qT4bUD1MaWpGrTwcvguhb   \n",
       "4                                      Dream On  5MxNLUsfh7uzROypsoO5qe   \n",
       "\n",
       "   popularity genre  acousticness  danceability  energy  key  loudness  mode  \\\n",
       "0          85  rock        0.0610         0.574   0.913    6    -4.793     0   \n",
       "1          80  rock        0.0169         0.273   0.952   11    -8.762     1   \n",
       "2          75  rock        0.1120         0.933   0.528    5    -6.472     0   \n",
       "3          76  rock        0.3960         0.437   0.864    4    -7.842     0   \n",
       "4          81  rock        0.3880         0.307   0.433    1   -10.057     1   \n",
       "\n",
       "   speechiness  instrumentalness  liveness  valence    tempo  duration  \\\n",
       "0       0.1330          0.001580     0.156    0.423  115.728    208400   \n",
       "1       0.0843          0.011100     0.142    0.472  100.271    405640   \n",
       "2       0.1620          0.329000     0.163    0.756  109.975    214653   \n",
       "3       0.0904          0.031400     0.242    0.749   81.394    295387   \n",
       "4       0.0290          0.000091     0.332    0.224  160.900    266960   \n",
       "\n",
       "   time_signature  \n",
       "0               4  \n",
       "1               4  \n",
       "2               4  \n",
       "3               4  \n",
       "4               4  "
      ]
     },
     "execution_count": 9,
     "metadata": {},
     "output_type": "execute_result"
    }
   ],
   "source": [
    "df_spotify.columns = [\"artist\",\"album\",\"track_name\", \"track_id\",\"popularity\",\"genre\",\"acousticness\",\"danceability\",\n",
    "                              \"energy\",\"key\",\"loudness\",\"mode\", \"speechiness\",\"instrumentalness\",\n",
    "                              \"liveness\",\"valence\",\"tempo\", \"duration\",\"time_signature\"]\n",
    "df_spotify.head()"
   ]
  },
  {
   "cell_type": "markdown",
   "id": "acadda74",
   "metadata": {},
   "source": [
    "- Here, we check if there is any missing values in the colmns."
   ]
  },
  {
   "cell_type": "code",
   "execution_count": 10,
   "id": "cc6dbfc0",
   "metadata": {},
   "outputs": [
    {
     "data": {
      "text/html": [
       "<div>\n",
       "<style scoped>\n",
       "    .dataframe tbody tr th:only-of-type {\n",
       "        vertical-align: middle;\n",
       "    }\n",
       "\n",
       "    .dataframe tbody tr th {\n",
       "        vertical-align: top;\n",
       "    }\n",
       "\n",
       "    .dataframe thead th {\n",
       "        text-align: right;\n",
       "    }\n",
       "</style>\n",
       "<table border=\"1\" class=\"dataframe\">\n",
       "  <thead>\n",
       "    <tr style=\"text-align: right;\">\n",
       "      <th></th>\n",
       "      <th>artist</th>\n",
       "      <th>album</th>\n",
       "      <th>track_name</th>\n",
       "      <th>track_id</th>\n",
       "      <th>popularity</th>\n",
       "      <th>genre</th>\n",
       "      <th>acousticness</th>\n",
       "      <th>danceability</th>\n",
       "      <th>energy</th>\n",
       "      <th>key</th>\n",
       "      <th>loudness</th>\n",
       "      <th>mode</th>\n",
       "      <th>speechiness</th>\n",
       "      <th>instrumentalness</th>\n",
       "      <th>liveness</th>\n",
       "      <th>valence</th>\n",
       "      <th>tempo</th>\n",
       "      <th>duration</th>\n",
       "      <th>time_signature</th>\n",
       "    </tr>\n",
       "  </thead>\n",
       "  <tbody>\n",
       "  </tbody>\n",
       "</table>\n",
       "</div>"
      ],
      "text/plain": [
       "Empty DataFrame\n",
       "Columns: [artist, album, track_name, track_id, popularity, genre, acousticness, danceability, energy, key, loudness, mode, speechiness, instrumentalness, liveness, valence, tempo, duration, time_signature]\n",
       "Index: []"
      ]
     },
     "execution_count": 10,
     "metadata": {},
     "output_type": "execute_result"
    }
   ],
   "source": [
    "df_spotify[df_spotify.isnull().any(axis=1)]"
   ]
  },
  {
   "cell_type": "markdown",
   "id": "dd2e234e",
   "metadata": {},
   "source": [
    "- Also, 'duration' feature is being expresseed in milliseconds which makes little sense in the contex of song duration, so we convert it to minutes.   "
   ]
  },
  {
   "cell_type": "code",
   "execution_count": 11,
   "id": "01315e3c",
   "metadata": {},
   "outputs": [],
   "source": [
    "df_spotify['duration']=round(df_spotify['duration']/60000,2)"
   ]
  },
  {
   "cell_type": "code",
   "execution_count": 12,
   "id": "0e1fb8bd",
   "metadata": {
    "scrolled": true
   },
   "outputs": [
    {
     "data": {
      "text/html": [
       "<div>\n",
       "<style scoped>\n",
       "    .dataframe tbody tr th:only-of-type {\n",
       "        vertical-align: middle;\n",
       "    }\n",
       "\n",
       "    .dataframe tbody tr th {\n",
       "        vertical-align: top;\n",
       "    }\n",
       "\n",
       "    .dataframe thead th {\n",
       "        text-align: right;\n",
       "    }\n",
       "</style>\n",
       "<table border=\"1\" class=\"dataframe\">\n",
       "  <thead>\n",
       "    <tr style=\"text-align: right;\">\n",
       "      <th></th>\n",
       "      <th>artist</th>\n",
       "      <th>album</th>\n",
       "      <th>track_name</th>\n",
       "      <th>track_id</th>\n",
       "      <th>popularity</th>\n",
       "      <th>genre</th>\n",
       "      <th>acousticness</th>\n",
       "      <th>danceability</th>\n",
       "      <th>energy</th>\n",
       "      <th>key</th>\n",
       "      <th>loudness</th>\n",
       "      <th>mode</th>\n",
       "      <th>speechiness</th>\n",
       "      <th>instrumentalness</th>\n",
       "      <th>liveness</th>\n",
       "      <th>valence</th>\n",
       "      <th>tempo</th>\n",
       "      <th>duration</th>\n",
       "      <th>time_signature</th>\n",
       "    </tr>\n",
       "  </thead>\n",
       "  <tbody>\n",
       "    <tr>\n",
       "      <th>0</th>\n",
       "      <td>AC/DC</td>\n",
       "      <td>Highway to Hell</td>\n",
       "      <td>Highway to Hell</td>\n",
       "      <td>2zYzyRzz6pRmhPzyfMEC8s</td>\n",
       "      <td>85</td>\n",
       "      <td>rock</td>\n",
       "      <td>0.0610</td>\n",
       "      <td>0.574</td>\n",
       "      <td>0.913</td>\n",
       "      <td>6</td>\n",
       "      <td>-4.793</td>\n",
       "      <td>0</td>\n",
       "      <td>0.1330</td>\n",
       "      <td>0.001580</td>\n",
       "      <td>0.156</td>\n",
       "      <td>0.423</td>\n",
       "      <td>115.728</td>\n",
       "      <td>3.47</td>\n",
       "      <td>4</td>\n",
       "    </tr>\n",
       "    <tr>\n",
       "      <th>1</th>\n",
       "      <td>Guns N' Roses</td>\n",
       "      <td>Appetite For Destruction</td>\n",
       "      <td>Paradise City</td>\n",
       "      <td>3YBZIN3rekqsKxbJc9FZko</td>\n",
       "      <td>80</td>\n",
       "      <td>rock</td>\n",
       "      <td>0.0169</td>\n",
       "      <td>0.273</td>\n",
       "      <td>0.952</td>\n",
       "      <td>11</td>\n",
       "      <td>-8.762</td>\n",
       "      <td>1</td>\n",
       "      <td>0.0843</td>\n",
       "      <td>0.011100</td>\n",
       "      <td>0.142</td>\n",
       "      <td>0.472</td>\n",
       "      <td>100.271</td>\n",
       "      <td>6.76</td>\n",
       "      <td>4</td>\n",
       "    </tr>\n",
       "    <tr>\n",
       "      <th>2</th>\n",
       "      <td>Queen</td>\n",
       "      <td>The Game (Deluxe Remastered Version)</td>\n",
       "      <td>Another One Bites The Dust - Remastered 2011</td>\n",
       "      <td>57JVGBtBLCfHw2muk5416J</td>\n",
       "      <td>75</td>\n",
       "      <td>rock</td>\n",
       "      <td>0.1120</td>\n",
       "      <td>0.933</td>\n",
       "      <td>0.528</td>\n",
       "      <td>5</td>\n",
       "      <td>-6.472</td>\n",
       "      <td>0</td>\n",
       "      <td>0.1620</td>\n",
       "      <td>0.329000</td>\n",
       "      <td>0.163</td>\n",
       "      <td>0.756</td>\n",
       "      <td>109.975</td>\n",
       "      <td>3.58</td>\n",
       "      <td>4</td>\n",
       "    </tr>\n",
       "    <tr>\n",
       "      <th>3</th>\n",
       "      <td>Led Zeppelin</td>\n",
       "      <td>Led Zeppelin IV (Deluxe Edition)</td>\n",
       "      <td>Black Dog - Remaster</td>\n",
       "      <td>3qT4bUD1MaWpGrTwcvguhb</td>\n",
       "      <td>76</td>\n",
       "      <td>rock</td>\n",
       "      <td>0.3960</td>\n",
       "      <td>0.437</td>\n",
       "      <td>0.864</td>\n",
       "      <td>4</td>\n",
       "      <td>-7.842</td>\n",
       "      <td>0</td>\n",
       "      <td>0.0904</td>\n",
       "      <td>0.031400</td>\n",
       "      <td>0.242</td>\n",
       "      <td>0.749</td>\n",
       "      <td>81.394</td>\n",
       "      <td>4.92</td>\n",
       "      <td>4</td>\n",
       "    </tr>\n",
       "    <tr>\n",
       "      <th>4</th>\n",
       "      <td>Aerosmith</td>\n",
       "      <td>Aerosmith</td>\n",
       "      <td>Dream On</td>\n",
       "      <td>5MxNLUsfh7uzROypsoO5qe</td>\n",
       "      <td>81</td>\n",
       "      <td>rock</td>\n",
       "      <td>0.3880</td>\n",
       "      <td>0.307</td>\n",
       "      <td>0.433</td>\n",
       "      <td>1</td>\n",
       "      <td>-10.057</td>\n",
       "      <td>1</td>\n",
       "      <td>0.0290</td>\n",
       "      <td>0.000091</td>\n",
       "      <td>0.332</td>\n",
       "      <td>0.224</td>\n",
       "      <td>160.900</td>\n",
       "      <td>4.45</td>\n",
       "      <td>4</td>\n",
       "    </tr>\n",
       "  </tbody>\n",
       "</table>\n",
       "</div>"
      ],
      "text/plain": [
       "          artist                                 album  \\\n",
       "0          AC/DC                       Highway to Hell   \n",
       "1  Guns N' Roses              Appetite For Destruction   \n",
       "2          Queen  The Game (Deluxe Remastered Version)   \n",
       "3   Led Zeppelin      Led Zeppelin IV (Deluxe Edition)   \n",
       "4      Aerosmith                             Aerosmith   \n",
       "\n",
       "                                     track_name                track_id  \\\n",
       "0                               Highway to Hell  2zYzyRzz6pRmhPzyfMEC8s   \n",
       "1                                 Paradise City  3YBZIN3rekqsKxbJc9FZko   \n",
       "2  Another One Bites The Dust - Remastered 2011  57JVGBtBLCfHw2muk5416J   \n",
       "3                          Black Dog - Remaster  3qT4bUD1MaWpGrTwcvguhb   \n",
       "4                                      Dream On  5MxNLUsfh7uzROypsoO5qe   \n",
       "\n",
       "   popularity genre  acousticness  danceability  energy  key  loudness  mode  \\\n",
       "0          85  rock        0.0610         0.574   0.913    6    -4.793     0   \n",
       "1          80  rock        0.0169         0.273   0.952   11    -8.762     1   \n",
       "2          75  rock        0.1120         0.933   0.528    5    -6.472     0   \n",
       "3          76  rock        0.3960         0.437   0.864    4    -7.842     0   \n",
       "4          81  rock        0.3880         0.307   0.433    1   -10.057     1   \n",
       "\n",
       "   speechiness  instrumentalness  liveness  valence    tempo  duration  \\\n",
       "0       0.1330          0.001580     0.156    0.423  115.728      3.47   \n",
       "1       0.0843          0.011100     0.142    0.472  100.271      6.76   \n",
       "2       0.1620          0.329000     0.163    0.756  109.975      3.58   \n",
       "3       0.0904          0.031400     0.242    0.749   81.394      4.92   \n",
       "4       0.0290          0.000091     0.332    0.224  160.900      4.45   \n",
       "\n",
       "   time_signature  \n",
       "0               4  \n",
       "1               4  \n",
       "2               4  \n",
       "3               4  \n",
       "4               4  "
      ]
     },
     "execution_count": 12,
     "metadata": {},
     "output_type": "execute_result"
    }
   ],
   "source": [
    "df_spotify.head()"
   ]
  },
  {
   "cell_type": "markdown",
   "id": "a5a075dc",
   "metadata": {},
   "source": [
    "## Features Correlation"
   ]
  },
  {
   "cell_type": "markdown",
   "id": "8d741f3f",
   "metadata": {},
   "source": [
    "Let's look at the heatmap to make a better sense about correlation between features."
   ]
  },
  {
   "cell_type": "code",
   "execution_count": 95,
   "id": "82ff6312",
   "metadata": {},
   "outputs": [
    {
     "data": {
      "text/plain": [
       "<AxesSubplot:>"
      ]
     },
     "execution_count": 95,
     "metadata": {},
     "output_type": "execute_result"
    },
    {
     "data": {
      "image/png": "[encoded data removed]",
      "text/plain": [
       "<Figure size 1080x864 with 2 Axes>"
      ]
     },
     "metadata": {
      "needs_background": "light"
     },
     "output_type": "display_data"
    }
   ],
   "source": [
    "import matplotlib.pyplot as plt\n",
    "import seaborn as sns\n",
    "\n",
    "# Encoding 'genre' featre\n",
    "cleanup_nums = {\"genre\":{\"rock\": 1, \"rap\": 2, \"jazz\":3, \"country\":4}}\n",
    "df_spotify_genre = df_spotify.replace(cleanup_nums)\n",
    "\n",
    "plt.figure(figsize = (15,12))\n",
    "# Plot heatmap between all remaining features\n",
    "sns.heatmap(df_spotify_genre.corr(),annot = True)"
   ]
  },
  {
   "cell_type": "markdown",
   "id": "daa3a06a",
   "metadata": {},
   "source": [
    "From the heatmap, we see that ‘energy’ and ‘loudness’ have the highest correlation, and a positive one, which does not surprise. Also, ‘energy’ and ‘acousticness’ have a highly-correlated inverse relationship. It is almost obvious, te more a song skews towards being acoustic, the less energy it tends to be.\n",
    "<br>By looking at 'popularity' as dependant variable, we notice very poor correlation values across our independent variables. The best we get is a -0.3 between ‘acousticness’ and ‘popularity’."
   ]
  },
  {
   "cell_type": "code",
   "execution_count": 96,
   "id": "23895918",
   "metadata": {},
   "outputs": [
    {
     "data": {
      "text/plain": [
       "Text(0, 0.5, 'avg. Popularity')"
      ]
     },
     "execution_count": 96,
     "metadata": {},
     "output_type": "execute_result"
    },
    {
     "data": {
      "image/png": "[encoded data removed]",
      "text/plain": [
       "<Figure size 864x720 with 4 Axes>"
      ]
     },
     "metadata": {
      "needs_background": "light"
     },
     "output_type": "display_data"
    }
   ],
   "source": [
    "import matplotlib.pyplot as plt\n",
    "\n",
    "genres = ['rock','rap','jazz','country']\n",
    "\n",
    "means_dance = df_spotify_genre.groupby('genre')['danceability'].mean()\n",
    "means_energy = df_spotify_genre.groupby('genre')['energy'].mean()\n",
    "means_popularity = df_spotify_genre.groupby('genre')['popularity'].mean()\n",
    "means_acousticness = df_spotify_genre.groupby('genre')['acousticness'].mean()\n",
    "\n",
    "fig, axs = plt.subplots(2, 2,figsize=(12,10))\n",
    "\n",
    "axs[0, 0].bar(genres,means_dance)\n",
    "axs[0, 0].set_xlabel('Genre')\n",
    "axs[0, 0].set_ylabel('avg. Danceability')\n",
    "\n",
    "axs[0, 1].bar(genres,means_energy)\n",
    "axs[0, 1].set_xlabel('Genre')\n",
    "axs[0, 1].set_ylabel('avg. Energy')\n",
    "\n",
    "axs[1, 0].bar(genres,means_acousticness)\n",
    "axs[1, 0].set_xlabel('Genre')\n",
    "axs[1, 0].set_ylabel('avg. Acousticness')\n",
    "\n",
    "axs[1, 1].bar(genres,means_popularity)\n",
    "axs[1, 1].set_xlabel('Genre')\n",
    "axs[1, 1].set_ylabel('avg. Popularity')"
   ]
  },
  {
   "cell_type": "markdown",
   "id": "9ea9e6f8",
   "metadata": {},
   "source": [
    "We can see that the highest 'danceability' belongs to the 'rap' genre which has higher tempo. But musics with 'rock' and 'country' genre have higher 'energy' attribute in average.\n",
    "<br>Also, as we expected, the accousticness of musics in 'jazz' are much greater than others.\n",
    "<br>From the last graph, we found that 'rap' musics have more popular in average in comparison with three other genres."
   ]
  },
  {
   "cell_type": "markdown",
   "id": "503c665e",
   "metadata": {},
   "source": [
    "## Genre - Classification "
   ]
  },
  {
   "cell_type": "code",
   "execution_count": 21,
   "id": "100c4103",
   "metadata": {},
   "outputs": [],
   "source": [
    "from sklearn.model_selection import train_test_split\n",
    "\n",
    "# Separate predictor and target features\n",
    "df_spotify_predictor = df_spotify.drop(['artist','album','track_name',\n",
    "                                        'track_id','popularity','genre'],\n",
    "                                       axis='columns')\n",
    "target = df_spotify['genre']\n",
    "\n",
    "# Split train and test data\n",
    "x_train, x_test, y_train, y_test = train_test_split (df_spotify_predictor,target,test_size=0.3, random_state=3)"
   ]
  },
  {
   "cell_type": "markdown",
   "id": "e1290866",
   "metadata": {},
   "source": [
    "### 1. Random Forest Classification"
   ]
  },
  {
   "cell_type": "code",
   "execution_count": 22,
   "id": "6e36d736",
   "metadata": {},
   "outputs": [
    {
     "name": "stdout",
     "output_type": "stream",
     "text": [
      "Model Accuracy = % 87.61\n"
     ]
    },
    {
     "data": {
      "image/png": "[encoded data removed]",
      "text/plain": [
       "<Figure size 432x288 with 2 Axes>"
      ]
     },
     "metadata": {
      "needs_background": "light"
     },
     "output_type": "display_data"
    }
   ],
   "source": [
    "from sklearn.metrics import ConfusionMatrixDisplay\n",
    "from sklearn.ensemble import RandomForestClassifier\n",
    "\n",
    "# Train random forest model on train data\n",
    "cls_rf = RandomForestClassifier(n_estimators=30)\n",
    "cls_rf.fit (x_train,y_train)#,y_train.values.ravel())\n",
    "\n",
    "# Plot confusion matrix \n",
    "y_predicted = cls_rf.predict(x_test)\n",
    "ConfusionMatrixDisplay.from_predictions(y_test,y_predicted,\n",
    "                      values_format='d')#,\n",
    "                      #display_labels=[\"rock\",\"rap\",\"jazz\",\"country\"])\n",
    "\n",
    "# Calculate model accuracy\n",
    "print ('Model Accuracy = %', \n",
    "       round(cls_rf.score(x_test,y_test)*100,2))"
   ]
  },
  {
   "cell_type": "markdown",
   "id": "94e3e423",
   "metadata": {},
   "source": [
    "From the results, we can see that the RandomForest classification shows great performance in classifying tracks based on their genres."
   ]
  },
  {
   "cell_type": "markdown",
   "id": "348b9f7f",
   "metadata": {},
   "source": [
    "### 2. SVM Classification"
   ]
  },
  {
   "cell_type": "code",
   "execution_count": 23,
   "id": "84de1c30",
   "metadata": {},
   "outputs": [
    {
     "name": "stdout",
     "output_type": "stream",
     "text": [
      "Model Accuracy = % 50.0\n"
     ]
    },
    {
     "data": {
      "image/png": "[encoded data removed]",
      "text/plain": [
       "<Figure size 432x288 with 2 Axes>"
      ]
     },
     "metadata": {
      "needs_background": "light"
     },
     "output_type": "display_data"
    }
   ],
   "source": [
    "from sklearn.svm import SVC\n",
    "\n",
    "# Train SVM model on train data\n",
    "cls_svm = SVC(random_state=42)\n",
    "cls_svm.fit(x_train,y_train)\n",
    "\n",
    "# Plot confusion matrix \n",
    "y_predicted = cls_svm.predict(x_test)\n",
    "ConfusionMatrixDisplay.from_predictions(y_test,y_predicted,\n",
    "                      values_format='d')\n",
    "\n",
    "# Calculate model accuracy\n",
    "print ('Model Accuracy = %', \n",
    "       round(cls_svm.score(x_test,y_test)*100,2))"
   ]
  },
  {
   "cell_type": "markdown",
   "id": "f7f60cd9",
   "metadata": {},
   "source": [
    "We can see that primary SVM model has low accuracy.\n",
    "Now we want to optimize parameters in order to improve model accuracy. "
   ]
  },
  {
   "cell_type": "code",
   "execution_count": 24,
   "id": "ba48ca87",
   "metadata": {},
   "outputs": [
    {
     "name": "stdout",
     "output_type": "stream",
     "text": [
      "{'C': 100, 'gamma': 0.001, 'kernel': 'rbf'}\n"
     ]
    }
   ],
   "source": [
    "from sklearn.model_selection import GridSearchCV\n",
    "\n",
    "# Set different parameters to ckeck\n",
    "param_grid = [\n",
    "    {'C':[0.5,1,10,100],\n",
    "    'gamma':['scale',1,0.1,0.01,0.001,0.0001],\n",
    "    'kernel':['rbf']},\n",
    "]\n",
    "\n",
    "# Find ideal parameters\n",
    "optimal_params = GridSearchCV(\n",
    "    SVC(),\n",
    "    param_grid,\n",
    "    cv=5,\n",
    "    scoring='accuracy',\n",
    "    verbose = 0\n",
    ")\n",
    "\n",
    "optimal_params.fit(x_train,y_train)\n",
    "print(optimal_params.best_params_)"
   ]
  },
  {
   "cell_type": "markdown",
   "id": "73e02748",
   "metadata": {},
   "source": [
    "We see that the ideal value for C is 100 and for gamma is 0.001.\n",
    "Now we train our model with these ideal values."
   ]
  },
  {
   "cell_type": "code",
   "execution_count": 25,
   "id": "d30b8e47",
   "metadata": {},
   "outputs": [
    {
     "name": "stdout",
     "output_type": "stream",
     "text": [
      "Model Accuracy = % 74.34\n"
     ]
    },
    {
     "data": {
      "image/png": "[encoded data removed]",
      "text/plain": [
       "<Figure size 432x288 with 2 Axes>"
      ]
     },
     "metadata": {
      "needs_background": "light"
     },
     "output_type": "display_data"
    }
   ],
   "source": [
    "cls_svm = SVC(random_state=42,C=100,gamma=0.001)\n",
    "cls_svm.fit(x_train,y_train)\n",
    "\n",
    "# Plot confusion matrix \n",
    "y_predicted = cls_svm.predict(x_test)\n",
    "ConfusionMatrixDisplay.from_predictions(y_test,y_predicted,\n",
    "                      values_format='d')\n",
    "\n",
    "# Calculate model accuracy\n",
    "print ('Model Accuracy = %', round(cls_svm.score(x_test,y_test)*100,2))"
   ]
  },
  {
   "cell_type": "markdown",
   "id": "83e1efe1",
   "metadata": {},
   "source": [
    "With optimal parameters, the accuracy improve significantly.\n",
    "<br>But yet RandomForest classifiation method has better perfromance."
   ]
  },
  {
   "cell_type": "markdown",
   "id": "7306adff",
   "metadata": {},
   "source": [
    "## Popularity - Regression"
   ]
  },
  {
   "cell_type": "markdown",
   "id": "3e14c444",
   "metadata": {},
   "source": [
    "In this section, we are going to predict tracks' popularity with different methods.\n",
    "<br>First, we will try linear regression model and evaluate the results. And then try to implement the other methods."
   ]
  },
  {
   "cell_type": "markdown",
   "id": "d4cec5a1",
   "metadata": {},
   "source": [
    "- Check if there is any rows with 'popularity' = 0"
   ]
  },
  {
   "cell_type": "code",
   "execution_count": 26,
   "id": "543bc071",
   "metadata": {
    "scrolled": true
   },
   "outputs": [
    {
     "data": {
      "text/plain": [
       "54"
      ]
     },
     "execution_count": 26,
     "metadata": {},
     "output_type": "execute_result"
    }
   ],
   "source": [
    "#Number of rows with 'popularity' = 0\n",
    "len(df_spotify[df_spotify['popularity']==0])"
   ]
  },
  {
   "cell_type": "markdown",
   "id": "e0029c1f",
   "metadata": {},
   "source": [
    "Since they are not too many, we are going to delete them from the table to robust our prediction"
   ]
  },
  {
   "cell_type": "code",
   "execution_count": 27,
   "id": "bcbff856",
   "metadata": {},
   "outputs": [
    {
     "data": {
      "text/plain": [
       "751"
      ]
     },
     "execution_count": 27,
     "metadata": {},
     "output_type": "execute_result"
    }
   ],
   "source": [
    "len (df_spotify)"
   ]
  },
  {
   "cell_type": "code",
   "execution_count": 28,
   "id": "0be7548e",
   "metadata": {},
   "outputs": [],
   "source": [
    "# Delete rows with 'popularity' = 0 from the dataset\n",
    "df_spotify_clean = df_spotify.drop(df_spotify[df_spotify['popularity']==0].index, axis= 'index')"
   ]
  },
  {
   "cell_type": "code",
   "execution_count": 29,
   "id": "e557d433",
   "metadata": {},
   "outputs": [
    {
     "data": {
      "text/plain": [
       "697"
      ]
     },
     "execution_count": 29,
     "metadata": {},
     "output_type": "execute_result"
    }
   ],
   "source": [
    "len (df_spotify_clean)"
   ]
  },
  {
   "cell_type": "markdown",
   "id": "ce0b4046",
   "metadata": {},
   "source": [
    "- Now let's split the training and test data and build our regression models on training data."
   ]
  },
  {
   "cell_type": "code",
   "execution_count": 32,
   "id": "9e80ee7e",
   "metadata": {},
   "outputs": [],
   "source": [
    "# Separate predictor and target features\n",
    "df_spotify_predictor = df_spotify_clean.drop(['artist','album','track_name',\n",
    "                                        'track_id','popularity','genre'],\n",
    "                                       axis='columns')\n",
    "target = df_spotify_clean['popularity']\n",
    "\n",
    "# Split train and test data\n",
    "x_train, x_test, y_train, y_test = train_test_split (df_spotify_predictor,target,test_size=0.3,random_state=3)"
   ]
  },
  {
   "cell_type": "markdown",
   "id": "53aab6c7",
   "metadata": {},
   "source": [
    "### 1. Linear Regression"
   ]
  },
  {
   "cell_type": "code",
   "execution_count": 33,
   "id": "da8497e8",
   "metadata": {},
   "outputs": [
    {
     "name": "stdout",
     "output_type": "stream",
     "text": [
      "R-squared =  0.2768\n",
      "MSE =  154.12\n",
      "RMSE =  12.41\n"
     ]
    }
   ],
   "source": [
    "from sklearn.linear_model import LinearRegression\n",
    "from sklearn.metrics import mean_squared_error\n",
    "import numpy as np\n",
    "\n",
    "# Build Linear Regression model on training data\n",
    "reg_linear = LinearRegression()\n",
    "reg_linear.fit(x_train,y_train)\n",
    "\n",
    "# Calculate R-squared value\n",
    "print ('R-squared = ', round (reg_linear.score(x_test,y_test),4))\n",
    "\n",
    "# Calculate RMSE , MSE\n",
    "y_predicted = reg_linear.predict (x_test)\n",
    "print('MSE = ', round (mean_squared_error(y_test, y_predicted),2))\n",
    "print('RMSE = ', round (np.sqrt(mean_squared_error(y_test, y_predicted)),2))"
   ]
  },
  {
   "cell_type": "markdown",
   "id": "06128f30",
   "metadata": {},
   "source": [
    "The result show that the R-suared value is too small which means the linear regression model weakly explain the variance of the target value ('popularity').\n",
    "<br>Also, having MSE = 154.12 for the residuals is huge for a range of 0–100 in ‘popularity’."
   ]
  },
  {
   "cell_type": "markdown",
   "id": "ae8dfc56",
   "metadata": {},
   "source": [
    "### 2. Random Forest Regressor"
   ]
  },
  {
   "cell_type": "code",
   "execution_count": 65,
   "id": "2b70b81e",
   "metadata": {},
   "outputs": [
    {
     "name": "stdout",
     "output_type": "stream",
     "text": [
      "R-squared =  0.1995\n",
      "MSE =  170.6\n",
      "RMSE =  13.06\n"
     ]
    }
   ],
   "source": [
    "from sklearn.ensemble import RandomForestRegressor\n",
    "\n",
    "reg_rf = RandomForestRegressor(max_depth=2, random_state=3)\n",
    "reg_rf.fit(x_train,y_train)\n",
    "\n",
    "# Calculate R-squared value\n",
    "print ('R-squared = ', round (reg_rf.score(x_test,y_test),4))\n",
    "\n",
    "# Calculate RMSE , MSE\n",
    "y_predicted = reg_rf.predict (x_test)\n",
    "print('MSE = ', round (mean_squared_error(y_test, y_predicted),2))\n",
    "print('RMSE = ', round (np.sqrt(mean_squared_error(y_test, y_predicted)),2))"
   ]
  },
  {
   "cell_type": "markdown",
   "id": "e5d60bc8",
   "metadata": {},
   "source": [
    "We can see that the primary RandomForest model performance is less accurate thn linear regression model.\n",
    "<br>In the following, we check SVM regressor and try to optimize its performance."
   ]
  },
  {
   "cell_type": "markdown",
   "id": "a75b838e",
   "metadata": {},
   "source": [
    "### 3. SVM Regressor"
   ]
  },
  {
   "cell_type": "code",
   "execution_count": 66,
   "id": "a5993b58",
   "metadata": {},
   "outputs": [
    {
     "name": "stdout",
     "output_type": "stream",
     "text": [
      "R-squared =  0.3034\n",
      "MSE =  148.46\n",
      "RMSE =  12.18\n"
     ]
    }
   ],
   "source": [
    "from sklearn.svm import SVR\n",
    "from sklearn.pipeline import make_pipeline\n",
    "from sklearn.preprocessing import StandardScaler\n",
    "\n",
    "reg_svr = make_pipeline(StandardScaler(), SVR(C=1.0, epsilon=0.2))\n",
    "reg_svr.fit(x_train,y_train)\n",
    "\n",
    "# Calculate R-squared value\n",
    "print ('R-squared = ', round (reg_svr.score(x_test,y_test),4))\n",
    "\n",
    "# Calculate RMSE , MSE\n",
    "y_predicted = reg_svr.predict (x_test)\n",
    "print('MSE = ', round (mean_squared_error(y_test, y_predicted),2))\n",
    "print('RMSE = ', round (np.sqrt(mean_squared_error(y_test, y_predicted)),2))"
   ]
  },
  {
   "cell_type": "markdown",
   "id": "ee6fcc36",
   "metadata": {},
   "source": [
    "- Due to the weak results, we are going to optimize the model by tuning hyperparameters and check the model performance woth ideal values."
   ]
  },
  {
   "cell_type": "code",
   "execution_count": 67,
   "id": "0c78774b",
   "metadata": {},
   "outputs": [
    {
     "name": "stdout",
     "output_type": "stream",
     "text": [
      "{'n_estimators': [200, 400, 600, 800, 1000, 1200], 'max_features': ['auto', 'sqrt'], 'max_depth': [10, 20, 30, 40, 50, 60, 70, 80, 90, 100, None], 'min_samples_split': [2, 5, 10], 'min_samples_leaf': [1, 2, 4], 'bootstrap': [True, False]}\n"
     ]
    }
   ],
   "source": [
    "from sklearn.model_selection import RandomizedSearchCV\n",
    "# Number of trees in random forest\n",
    "n_estimators = [int(x) for x in np.linspace(start = 200, stop = 1200, num = 6)]\n",
    "# Number of features to consider at every split\n",
    "max_features = ['auto', 'sqrt']\n",
    "# Maximum number of levels in tree\n",
    "max_depth = [int(x) for x in np.linspace(start = 10, stop = 100, num = 10)]\n",
    "max_depth.append(None)\n",
    "# Minimum number of samples required to split a node\n",
    "min_samples_split = [2, 5, 10]\n",
    "# Minimum number of samples required at each leaf node\n",
    "min_samples_leaf = [1, 2, 4]\n",
    "# Method of selecting samples for training each tree\n",
    "bootstrap = [True, False]\n",
    "# Create the random grid\n",
    "random_grid = {'n_estimators': n_estimators,\n",
    "               'max_features': max_features,\n",
    "               'max_depth': max_depth,\n",
    "               'min_samples_split': min_samples_split,\n",
    "               'min_samples_leaf': min_samples_leaf,\n",
    "               'bootstrap': bootstrap}\n",
    "\n",
    "print(random_grid)\n"
   ]
  },
  {
   "cell_type": "code",
   "execution_count": 69,
   "id": "4e9f2cb1",
   "metadata": {},
   "outputs": [
    {
     "name": "stdout",
     "output_type": "stream",
     "text": [
      "Fitting 3 folds for each of 10 candidates, totalling 30 fits\n"
     ]
    },
    {
     "data": {
      "text/plain": [
       "RandomizedSearchCV(cv=3, estimator=RandomForestRegressor(), n_jobs=-1,\n",
       "                   param_distributions={'bootstrap': [True, False],\n",
       "                                        'max_depth': [10, 20, 30, 40, 50, 60,\n",
       "                                                      70, 80, 90, 100, None],\n",
       "                                        'max_features': ['auto', 'sqrt'],\n",
       "                                        'min_samples_leaf': [1, 2, 4],\n",
       "                                        'min_samples_split': [2, 5, 10],\n",
       "                                        'n_estimators': [200, 400, 600, 800,\n",
       "                                                         1000, 1200]},\n",
       "                   random_state=42, verbose=2)"
      ]
     },
     "execution_count": 69,
     "metadata": {},
     "output_type": "execute_result"
    }
   ],
   "source": [
    "# Use the random grid to search for best hyperparameters\n",
    "# First create the base model to tune\n",
    "rf = RandomForestRegressor()\n",
    "# Random search of parameters, using 3 fold cross validation, \n",
    "# search across 100 different combinations, and use all available cores\n",
    "rf_random = RandomizedSearchCV(estimator = rf, \n",
    "                               param_distributions = random_grid, \n",
    "                               n_iter = 10, cv = 3, verbose=2, random_state=42, n_jobs = -1)\n",
    "# Fit the random search model\n",
    "rf_random.fit(x_train, y_train)"
   ]
  },
  {
   "cell_type": "code",
   "execution_count": 70,
   "id": "3952b695",
   "metadata": {},
   "outputs": [
    {
     "data": {
      "text/plain": [
       "{'n_estimators': 600,\n",
       " 'min_samples_split': 10,\n",
       " 'min_samples_leaf': 4,\n",
       " 'max_features': 'sqrt',\n",
       " 'max_depth': 80,\n",
       " 'bootstrap': True}"
      ]
     },
     "execution_count": 70,
     "metadata": {},
     "output_type": "execute_result"
    }
   ],
   "source": [
    "rf_random.best_params_"
   ]
  },
  {
   "cell_type": "code",
   "execution_count": 71,
   "id": "8042095e",
   "metadata": {},
   "outputs": [
    {
     "name": "stdout",
     "output_type": "stream",
     "text": [
      "R-squared =  0.2504\n",
      "MSE =  159.74\n",
      "RMSE =  12.64\n"
     ]
    }
   ],
   "source": [
    "# Calculate R-squared value\n",
    "print ('R-squared = ', round (rf_random.score(x_test,y_test),4))\n",
    "\n",
    "# Calculate RMSE , MSE\n",
    "y_predicted = rf_random.predict (x_test)\n",
    "print('MSE = ', round (mean_squared_error(y_test, y_predicted),2))\n",
    "print('RMSE = ', round (np.sqrt(mean_squared_error(y_test, y_predicted)),2))"
   ]
  },
  {
   "cell_type": "code",
   "execution_count": 72,
   "id": "bfc04ef9",
   "metadata": {},
   "outputs": [
    {
     "name": "stdout",
     "output_type": "stream",
     "text": [
      "Fitting 3 folds for each of 288 candidates, totalling 864 fits\n"
     ]
    },
    {
     "data": {
      "text/plain": [
       "GridSearchCV(cv=3, estimator=RandomForestRegressor(), n_jobs=-1,\n",
       "             param_grid={'bootstrap': [True], 'max_depth': [80, 90, 100, 110],\n",
       "                         'max_features': [2, 3], 'min_samples_leaf': [3, 4, 5],\n",
       "                         'min_samples_split': [8, 10, 12],\n",
       "                         'n_estimators': [100, 200, 300, 1000]},\n",
       "             verbose=2)"
      ]
     },
     "execution_count": 72,
     "metadata": {},
     "output_type": "execute_result"
    }
   ],
   "source": [
    "# Create the parameter grid based on the results of random search \n",
    "param_grid = {\n",
    "    'bootstrap': [True],\n",
    "    'max_depth': [80, 90, 100, 110],\n",
    "    'max_features': [2, 3],\n",
    "    'min_samples_leaf': [3, 4, 5],\n",
    "    'min_samples_split': [8, 10, 12],\n",
    "    'n_estimators': [100, 200, 300, 1000]\n",
    "}\n",
    "# Create a based model\n",
    "rf = RandomForestRegressor()\n",
    "# Instantiate the grid search model\n",
    "grid_search = GridSearchCV(estimator = rf, param_grid = param_grid, \n",
    "                          cv = 3, n_jobs = -1, verbose = 2)\n",
    "# Fit the grid search to the data\n",
    "grid_search.fit(x_train, y_train)"
   ]
  },
  {
   "cell_type": "code",
   "execution_count": 73,
   "id": "cbb25841",
   "metadata": {},
   "outputs": [
    {
     "data": {
      "text/plain": [
       "{'bootstrap': True,\n",
       " 'max_depth': 80,\n",
       " 'max_features': 3,\n",
       " 'min_samples_leaf': 5,\n",
       " 'min_samples_split': 8,\n",
       " 'n_estimators': 300}"
      ]
     },
     "execution_count": 73,
     "metadata": {},
     "output_type": "execute_result"
    }
   ],
   "source": [
    "grid_search.best_params_"
   ]
  },
  {
   "cell_type": "code",
   "execution_count": 74,
   "id": "eb9324e9",
   "metadata": {},
   "outputs": [
    {
     "name": "stdout",
     "output_type": "stream",
     "text": [
      "R-squared =  0.2563\n",
      "MSE =  158.49\n",
      "RMSE =  12.59\n"
     ]
    }
   ],
   "source": [
    "# Calculate R-squared value\n",
    "print ('R-squared = ', round (grid_search.score(x_test,y_test),4))\n",
    "\n",
    "# Calculate RMSE , MSE\n",
    "y_predicted = grid_search.predict (x_test)\n",
    "print('MSE = ', round (mean_squared_error(y_test, y_predicted),2))\n",
    "print('RMSE = ', round (np.sqrt(mean_squared_error(y_test, y_predicted)),2))"
   ]
  },
  {
   "cell_type": "markdown",
   "id": "5fc926e2",
   "metadata": {},
   "source": [
    "We can see that with all these optimization, we could not reach to an improvement in our prediction.\n",
    "<br>Since he results we are getting with our regression methods are not satisfying.\n",
    "<br>Now we are going to try classification methods in order to predict the popularity.\n",
    "<br>At the fisrt step, we divide our the popularity feature into 3 different group ('Low', 'Medium', 'High).\n",
    "<br>Then we will try to predict by classification methods and check the accuracy."
   ]
  },
  {
   "cell_type": "markdown",
   "id": "4fceeb98",
   "metadata": {},
   "source": [
    "## Popularity - Classification"
   ]
  },
  {
   "cell_type": "markdown",
   "id": "48ea6d6b",
   "metadata": {},
   "source": [
    "In order to set up classification models, we need to convert the continuous integer values of popularity into categorical variables.\n",
    "<br>We will segment our popularity values into equal bins of ‘Low’, ‘Medium’ and ‘High’ popularity."
   ]
  },
  {
   "cell_type": "code",
   "execution_count": 76,
   "id": "d509fc2b",
   "metadata": {},
   "outputs": [
    {
     "data": {
      "text/plain": [
       "High      408\n",
       "Medium    268\n",
       "Low        21\n",
       "Name: popularity, dtype: int64"
      ]
     },
     "execution_count": 76,
     "metadata": {},
     "output_type": "execute_result"
    }
   ],
   "source": [
    "df_spotify_clean['popularity']=pd.cut(df_spotify.popularity, bins=3, labels=['Low','Medium','High'])\n",
    "df_spotify_clean['popularity'].value_counts()"
   ]
  },
  {
   "cell_type": "markdown",
   "id": "8892b4ad",
   "metadata": {},
   "source": [
    "Now, we want to separate the predictors, and split the data into training and test data."
   ]
  },
  {
   "cell_type": "code",
   "execution_count": 86,
   "id": "cbdd7fd1",
   "metadata": {},
   "outputs": [],
   "source": [
    "# Encoding 'genre' feature\n",
    "cleanup_nums = {\"genre\":{\"rock\": 1, \"rap\": 2, \"jazz\":3, \"country\":4}}\n",
    "df_spotify_clean = df_spotify_clean.replace(cleanup_nums)\n",
    "\n",
    "# Separate predictor and target features\n",
    "df_spotify_predictor = df_spotify_clean.drop(['artist','album','track_name',\n",
    "                                        'track_id','popularity'],\n",
    "                                       axis='columns')\n",
    "target = df_spotify_clean['popularity']\n",
    "\n",
    "# Split train and test data\n",
    "x_train, x_test, y_train, y_test = train_test_split (df_spotify_predictor,target,test_size=0.3,random_state = 3)"
   ]
  },
  {
   "cell_type": "markdown",
   "id": "3825efbf",
   "metadata": {},
   "source": [
    "### 1. Random Forest Classification"
   ]
  },
  {
   "cell_type": "code",
   "execution_count": 87,
   "id": "e746529c",
   "metadata": {},
   "outputs": [
    {
     "name": "stdout",
     "output_type": "stream",
     "text": [
      "Model Accuracy = % 85.71\n"
     ]
    },
    {
     "data": {
      "image/png": "[encoded data removed]",
      "text/plain": [
       "<Figure size 432x288 with 2 Axes>"
      ]
     },
     "metadata": {
      "needs_background": "light"
     },
     "output_type": "display_data"
    }
   ],
   "source": [
    "# Train random forest model on train data\n",
    "cls_rf = RandomForestClassifier(n_estimators=30)\n",
    "cls_rf.fit (x_train,y_train)\n",
    "\n",
    "# Plot confusion matrix \n",
    "y_predicted = cls_rf.predict(x_test)\n",
    "ConfusionMatrixDisplay.from_predictions(y_test,y_predicted,\n",
    "                      values_format='d')\n",
    "\n",
    "# Calculate model accuracy\n",
    "print ('Model Accuracy = %', \n",
    "       round(cls_rf.score(x_test,y_test)*100,2))"
   ]
  },
  {
   "cell_type": "markdown",
   "id": "d2f44d24",
   "metadata": {},
   "source": [
    "We can see that random forest classification has about 85% accuracy in predicting popularity group.\n",
    "<br>Now, let's test two additional models."
   ]
  },
  {
   "cell_type": "markdown",
   "id": "1d4f0966",
   "metadata": {},
   "source": [
    "### 2. SVM Classsification"
   ]
  },
  {
   "cell_type": "code",
   "execution_count": 89,
   "id": "0ac88f0d",
   "metadata": {},
   "outputs": [
    {
     "name": "stdout",
     "output_type": "stream",
     "text": [
      "Model Accuracy = % 70.95\n"
     ]
    },
    {
     "data": {
      "image/png": "[encoded data removed]",
      "text/plain": [
       "<Figure size 432x288 with 2 Axes>"
      ]
     },
     "metadata": {
      "needs_background": "light"
     },
     "output_type": "display_data"
    }
   ],
   "source": [
    "from sklearn.svm import SVC\n",
    "\n",
    "# Train SVM model on train data\n",
    "cls_svm = SVC(random_state=42)\n",
    "cls_svm.fit(x_train,y_train)\n",
    "\n",
    "# Plot confusion matrix \n",
    "y_predicted = cls_svm.predict(x_test)\n",
    "ConfusionMatrixDisplay.from_predictions(y_test,y_predicted,\n",
    "                      values_format='d')\n",
    "\n",
    "# Calculate model accuracy\n",
    "print ('Model Accuracy = %', \n",
    "       round(cls_svm.score(x_test,y_test)*100,2))"
   ]
  },
  {
   "cell_type": "code",
   "execution_count": 90,
   "id": "cc38a411",
   "metadata": {},
   "outputs": [
    {
     "name": "stdout",
     "output_type": "stream",
     "text": [
      "{'C': 100, 'gamma': 'scale', 'kernel': 'rbf'}\n"
     ]
    }
   ],
   "source": [
    "from sklearn.model_selection import GridSearchCV\n",
    "\n",
    "# Set different parameters to ckeck\n",
    "param_grid = [\n",
    "    {'C':[0.5,1,10,100],\n",
    "    'gamma':['scale',1,0.1,0.01,0.001,0.0001],\n",
    "    'kernel':['rbf']},\n",
    "]\n",
    "\n",
    "# Find ideal parameters\n",
    "optimal_params = GridSearchCV(\n",
    "    SVC(),\n",
    "    param_grid,\n",
    "    cv=5,\n",
    "    scoring='accuracy',\n",
    "    verbose = 0\n",
    ")\n",
    "\n",
    "optimal_params.fit(x_train,y_train)\n",
    "print(optimal_params.best_params_)"
   ]
  },
  {
   "cell_type": "code",
   "execution_count": 91,
   "id": "018287f3",
   "metadata": {
    "scrolled": true
   },
   "outputs": [
    {
     "name": "stdout",
     "output_type": "stream",
     "text": [
      "Model Accuracy = % 82.38\n"
     ]
    },
    {
     "data": {
      "image/png": "[encoded data removed]",
      "text/plain": [
       "<Figure size 432x288 with 2 Axes>"
      ]
     },
     "metadata": {
      "needs_background": "light"
     },
     "output_type": "display_data"
    }
   ],
   "source": [
    "cls_svm = SVC(random_state=42,C=100,gamma=0.001)\n",
    "cls_svm.fit(x_train,y_train)\n",
    "\n",
    "# Plot confusion matrix \n",
    "y_predicted = cls_svm.predict(x_test)\n",
    "ConfusionMatrixDisplay.from_predictions(y_test,y_predicted,\n",
    "                      values_format='d')\n",
    "\n",
    "# Calculate model accuracy\n",
    "print ('Model Accuracy = %', round(cls_svm.score(x_test,y_test)*100,2))"
   ]
  },
  {
   "cell_type": "markdown",
   "id": "eed5dd02",
   "metadata": {},
   "source": [
    "We can reach to a accuracy 82% by optimizing support vector machine classification."
   ]
  },
  {
   "cell_type": "markdown",
   "id": "3b9e0fa0",
   "metadata": {},
   "source": [
    "### 3. k-NN Classification"
   ]
  },
  {
   "cell_type": "code",
   "execution_count": 92,
   "id": "65f76075",
   "metadata": {},
   "outputs": [
    {
     "name": "stdout",
     "output_type": "stream",
     "text": [
      "Model Accuracy = % 70.48\n"
     ]
    },
    {
     "data": {
      "image/png": "[encoded data removed]",
      "text/plain": [
       "<Figure size 432x288 with 2 Axes>"
      ]
     },
     "metadata": {
      "needs_background": "light"
     },
     "output_type": "display_data"
    }
   ],
   "source": [
    "from sklearn.neighbors import KNeighborsClassifier\n",
    "\n",
    "knn = KNeighborsClassifier(n_neighbors=1)\n",
    "knn.fit(x_train, y_train)\n",
    "y_predicted = knn.predict(x_test)\n",
    "ConfusionMatrixDisplay.from_predictions(y_test,y_predicted,\n",
    "                      values_format='d')\n",
    "\n",
    "# Calculate model accuracy\n",
    "print ('Model Accuracy = %', round(knn.score(x_test,y_test)*100,2))"
   ]
  },
  {
   "cell_type": "markdown",
   "id": "54c27f75",
   "metadata": {},
   "source": [
    "From the results, we can conclude that the random forest model shows the best performance in classification popularity feature which is divided in three groups ('Low', 'Medium', 'High). "
   ]
  },
  {
   "cell_type": "markdown",
   "id": "84ef0b45",
   "metadata": {},
   "source": [
    "## Conclusion"
   ]
  },
  {
   "cell_type": "markdown",
   "id": "481856d5",
   "metadata": {},
   "source": [
    "The main purpose of our project was to see whether or not we would be able to accurately predict genres and popularity for some  of the popular playlists given from the Spotify API. \n",
    "<br>During our data preparation, we used Python code to be able to access the Spotify API and then move the data into MySQL database. After this, we showed correlation between different features and ploted some bar chart in order to get better insight about our dataset.\n",
    "<br>We then build two different algorithm to predict the genre of a song based on the audio features and could reach to an accuracy 87.61% by Random Forest model.\n",
    "<br>Furthermore, we built three different models for predicting popularity features. We had difficulities with setting up proper model to predict the target feature accurately. Since the results were disappointing, we decided to change the target variable into categorical type and predict the popularity with three different labels. In this way, our model showed better performances and our best result was 85.71% in accuracy for Random Forest Regression model."
   ]
  }
 ],
 "metadata": {
  "kernelspec": {
   "display_name": "Python 3 (ipykernel)",
   "language": "python",
   "name": "python3"
  },
  "language_info": {
   "codemirror_mode": {
    "name": "ipython",
    "version": 3
   },
   "file_extension": ".py",
   "mimetype": "text/x-python",
   "name": "python",
   "nbconvert_exporter": "python",
   "pygments_lexer": "ipython3",
   "version": "3.8.11"
  }
 },
 "nbformat": 4,
 "nbformat_minor": 5
}
